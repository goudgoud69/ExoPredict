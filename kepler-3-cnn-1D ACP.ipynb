{
 "cells": [
  {
   "attachments": {},
   "cell_type": "markdown",
   "metadata": {},
   "source": [
    "# Projet d'analyse des résultats des détections des exoplanètes par le télescope Kepler\n",
    "\n",
    "Source : This file was produced by the NASA Exoplanet Archive  http://exoplanetarchive.ipac.caltech.edu\n",
    "Tue Jan 23 10:50:14 2024\n",
    "\n",
    "### Objectif :\n",
    "A partir de la validité des résultats de détection des exoplanètes par le télescope Kepler obtenir un modèle de prédiction de la probabilité d'avoir un exoplanète sur une planète Terrestre.\n",
    "\n",
    "### Application PCA sur dataset puis modèle CNN\n",
    "\n"
   ]
  },
  {
   "cell_type": "code",
   "execution_count": 1,
   "metadata": {},
   "outputs": [],
   "source": [
    "import os\n",
    "from datetime import datetime\n",
    "\n",
    "import pandas as pd\n",
    "import numpy as np\n",
    "\n",
    "from sklearn.model_selection import train_test_split\n",
    "from sklearn.preprocessing import StandardScaler\n",
    "from sklearn.compose import ColumnTransformer\n",
    "from sklearn.pipeline import Pipeline\n",
    "from sklearn.impute import SimpleImputer\n",
    "from sklearn.preprocessing import OneHotEncoder\n",
    "from sklearn.metrics import accuracy_score\n",
    "from sklearn.model_selection import train_test_split\n",
    "from sklearn.preprocessing import StandardScaler\n",
    "from sklearn.compose import ColumnTransformer\n",
    "from sklearn.pipeline import Pipeline\n",
    "from sklearn.impute import SimpleImputer\n",
    "from sklearn.preprocessing import OneHotEncoder\n",
    "from sklearn.ensemble import RandomForestClassifier\n",
    "from sklearn.metrics import classification_report, confusion_matrix\n",
    "from sklearn import metrics\n",
    "\n",
    "import seaborn as sns\n",
    "\n",
    "import matplotlib.pyplot as plt\n",
    "\n",
    "import tensorflow as tf\n",
    "from tensorflow import keras\n",
    "from tensorflow.keras import layers\n",
    "from tensorflow.keras.callbacks import TensorBoard\n",
    "from tensorflow.keras.models import load_model, save_model\n"
   ]
  },
  {
   "cell_type": "code",
   "execution_count": 2,
   "metadata": {},
   "outputs": [
    {
     "data": {
      "text/html": [
       "<div>\n",
       "<style scoped>\n",
       "    .dataframe tbody tr th:only-of-type {\n",
       "        vertical-align: middle;\n",
       "    }\n",
       "\n",
       "    .dataframe tbody tr th {\n",
       "        vertical-align: top;\n",
       "    }\n",
       "\n",
       "    .dataframe thead th {\n",
       "        text-align: right;\n",
       "    }\n",
       "</style>\n",
       "<table border=\"1\" class=\"dataframe\">\n",
       "  <thead>\n",
       "    <tr style=\"text-align: right;\">\n",
       "      <th></th>\n",
       "      <th>koi_steff</th>\n",
       "      <th>koi_steff_err1</th>\n",
       "      <th>koi_steff_err2</th>\n",
       "      <th>koi_slogg</th>\n",
       "      <th>koi_slogg_err1</th>\n",
       "      <th>koi_slogg_err2</th>\n",
       "      <th>koi_smet</th>\n",
       "      <th>koi_smet_err1</th>\n",
       "      <th>koi_smet_err2</th>\n",
       "      <th>koi_srad</th>\n",
       "      <th>...</th>\n",
       "      <th>koi_dicco_mdec_err</th>\n",
       "      <th>koi_dicco_msky</th>\n",
       "      <th>koi_dicco_msky_err</th>\n",
       "      <th>koi_dikco_mra</th>\n",
       "      <th>koi_dikco_mra_err</th>\n",
       "      <th>koi_dikco_mdec</th>\n",
       "      <th>koi_dikco_mdec_err</th>\n",
       "      <th>koi_dikco_msky</th>\n",
       "      <th>koi_dikco_msky_err</th>\n",
       "      <th>target</th>\n",
       "    </tr>\n",
       "  </thead>\n",
       "  <tbody>\n",
       "    <tr>\n",
       "      <th>0</th>\n",
       "      <td>4499.0</td>\n",
       "      <td>89.0</td>\n",
       "      <td>-89.0</td>\n",
       "      <td>4.635</td>\n",
       "      <td>0.032</td>\n",
       "      <td>-0.020</td>\n",
       "      <td>-0.26</td>\n",
       "      <td>0.15</td>\n",
       "      <td>-0.15</td>\n",
       "      <td>0.639</td>\n",
       "      <td>...</td>\n",
       "      <td>0.210</td>\n",
       "      <td>0.210</td>\n",
       "      <td>0.190</td>\n",
       "      <td>-0.41</td>\n",
       "      <td>0.180</td>\n",
       "      <td>-0.43</td>\n",
       "      <td>0.220</td>\n",
       "      <td>0.59</td>\n",
       "      <td>0.190</td>\n",
       "      <td>1</td>\n",
       "    </tr>\n",
       "    <tr>\n",
       "      <th>1</th>\n",
       "      <td>5365.0</td>\n",
       "      <td>191.0</td>\n",
       "      <td>-175.0</td>\n",
       "      <td>3.669</td>\n",
       "      <td>0.816</td>\n",
       "      <td>-0.204</td>\n",
       "      <td>-0.04</td>\n",
       "      <td>0.30</td>\n",
       "      <td>-0.30</td>\n",
       "      <td>2.872</td>\n",
       "      <td>...</td>\n",
       "      <td>0.076</td>\n",
       "      <td>14.558</td>\n",
       "      <td>0.099</td>\n",
       "      <td>-13.90</td>\n",
       "      <td>0.072</td>\n",
       "      <td>4.37</td>\n",
       "      <td>0.081</td>\n",
       "      <td>14.57</td>\n",
       "      <td>0.077</td>\n",
       "      <td>0</td>\n",
       "    </tr>\n",
       "    <tr>\n",
       "      <th>2</th>\n",
       "      <td>6014.0</td>\n",
       "      <td>190.0</td>\n",
       "      <td>-211.0</td>\n",
       "      <td>4.436</td>\n",
       "      <td>0.072</td>\n",
       "      <td>-0.217</td>\n",
       "      <td>-0.04</td>\n",
       "      <td>0.25</td>\n",
       "      <td>-0.30</td>\n",
       "      <td>1.021</td>\n",
       "      <td>...</td>\n",
       "      <td>0.620</td>\n",
       "      <td>0.500</td>\n",
       "      <td>0.980</td>\n",
       "      <td>0.14</td>\n",
       "      <td>0.930</td>\n",
       "      <td>-0.40</td>\n",
       "      <td>0.620</td>\n",
       "      <td>0.42</td>\n",
       "      <td>0.860</td>\n",
       "      <td>1</td>\n",
       "    </tr>\n",
       "    <tr>\n",
       "      <th>3</th>\n",
       "      <td>4498.0</td>\n",
       "      <td>90.0</td>\n",
       "      <td>-90.0</td>\n",
       "      <td>4.661</td>\n",
       "      <td>0.012</td>\n",
       "      <td>-0.042</td>\n",
       "      <td>-0.08</td>\n",
       "      <td>0.15</td>\n",
       "      <td>-0.15</td>\n",
       "      <td>0.635</td>\n",
       "      <td>...</td>\n",
       "      <td>0.270</td>\n",
       "      <td>0.130</td>\n",
       "      <td>0.600</td>\n",
       "      <td>0.58</td>\n",
       "      <td>0.710</td>\n",
       "      <td>-0.25</td>\n",
       "      <td>0.270</td>\n",
       "      <td>0.63</td>\n",
       "      <td>0.590</td>\n",
       "      <td>1</td>\n",
       "    </tr>\n",
       "    <tr>\n",
       "      <th>4</th>\n",
       "      <td>5839.0</td>\n",
       "      <td>105.0</td>\n",
       "      <td>-105.0</td>\n",
       "      <td>4.327</td>\n",
       "      <td>0.156</td>\n",
       "      <td>-0.104</td>\n",
       "      <td>-0.28</td>\n",
       "      <td>0.15</td>\n",
       "      <td>-0.15</td>\n",
       "      <td>1.067</td>\n",
       "      <td>...</td>\n",
       "      <td>0.630</td>\n",
       "      <td>0.570</td>\n",
       "      <td>0.580</td>\n",
       "      <td>0.40</td>\n",
       "      <td>0.610</td>\n",
       "      <td>0.12</td>\n",
       "      <td>0.730</td>\n",
       "      <td>0.41</td>\n",
       "      <td>0.570</td>\n",
       "      <td>1</td>\n",
       "    </tr>\n",
       "  </tbody>\n",
       "</table>\n",
       "<p>5 rows × 51 columns</p>\n",
       "</div>"
      ],
      "text/plain": [
       "   koi_steff  koi_steff_err1  koi_steff_err2  koi_slogg  koi_slogg_err1  \\\n",
       "0     4499.0            89.0           -89.0      4.635           0.032   \n",
       "1     5365.0           191.0          -175.0      3.669           0.816   \n",
       "2     6014.0           190.0          -211.0      4.436           0.072   \n",
       "3     4498.0            90.0           -90.0      4.661           0.012   \n",
       "4     5839.0           105.0          -105.0      4.327           0.156   \n",
       "\n",
       "   koi_slogg_err2  koi_smet  koi_smet_err1  koi_smet_err2  koi_srad  ...  \\\n",
       "0          -0.020     -0.26           0.15          -0.15     0.639  ...   \n",
       "1          -0.204     -0.04           0.30          -0.30     2.872  ...   \n",
       "2          -0.217     -0.04           0.25          -0.30     1.021  ...   \n",
       "3          -0.042     -0.08           0.15          -0.15     0.635  ...   \n",
       "4          -0.104     -0.28           0.15          -0.15     1.067  ...   \n",
       "\n",
       "   koi_dicco_mdec_err  koi_dicco_msky  koi_dicco_msky_err  koi_dikco_mra  \\\n",
       "0               0.210           0.210               0.190          -0.41   \n",
       "1               0.076          14.558               0.099         -13.90   \n",
       "2               0.620           0.500               0.980           0.14   \n",
       "3               0.270           0.130               0.600           0.58   \n",
       "4               0.630           0.570               0.580           0.40   \n",
       "\n",
       "   koi_dikco_mra_err  koi_dikco_mdec  koi_dikco_mdec_err  koi_dikco_msky  \\\n",
       "0              0.180           -0.43               0.220            0.59   \n",
       "1              0.072            4.37               0.081           14.57   \n",
       "2              0.930           -0.40               0.620            0.42   \n",
       "3              0.710           -0.25               0.270            0.63   \n",
       "4              0.610            0.12               0.730            0.41   \n",
       "\n",
       "   koi_dikco_msky_err  target  \n",
       "0               0.190       1  \n",
       "1               0.077       0  \n",
       "2               0.860       1  \n",
       "3               0.590       1  \n",
       "4               0.570       1  \n",
       "\n",
       "[5 rows x 51 columns]"
      ]
     },
     "execution_count": 2,
     "metadata": {},
     "output_type": "execute_result"
    }
   ],
   "source": [
    "\n",
    "# Charger ensemble de données ici (new_data par exemple)\n",
    "new_data = pd.read_csv('./dataset/data_resampled.csv')\n",
    "new_data.head()"
   ]
  },
  {
   "cell_type": "markdown",
   "metadata": {},
   "source": [
    "ACP\n"
   ]
  },
  {
   "cell_type": "code",
   "execution_count": 4,
   "metadata": {},
   "outputs": [],
   "source": [
    "# Séparation des caractéristiques (X) et de la cible (y)\n",
    "X = new_data.drop('target', axis=1)\n",
    "y = new_data['target']"
   ]
  },
  {
   "cell_type": "code",
   "execution_count": 9,
   "metadata": {},
   "outputs": [],
   "source": [
    "from sklearn.decomposition import PCA\n",
    "from sklearn.preprocessing import StandardScaler\n",
    "\n",
    "# Normalisation des données\n",
    "scaler = StandardScaler()\n",
    "X_scaled = scaler.fit_transform(X)\n",
    "\n",
    "# Appliquer l'ACP\n",
    "pca = PCA(n_components=30)\n",
    "X_pca = pca.fit_transform(X_scaled)"
   ]
  },
  {
   "cell_type": "code",
   "execution_count": 10,
   "metadata": {},
   "outputs": [
    {
     "data": {
      "image/png": "[encoded data removed]",
      "text/plain": [
       "<Figure size 640x480 with 1 Axes>"
      ]
     },
     "metadata": {},
     "output_type": "display_data"
    }
   ],
   "source": [
    "# Détermination du nombre de composantes\n",
    "import matplotlib.pyplot as plt\n",
    "\n",
    "plt.plot(range(1, len(pca.explained_variance_ratio_)+1), np.cumsum(pca.explained_variance_ratio_))\n",
    "plt.xlabel('Nombre de composantes')\n",
    "plt.ylabel('Variance expliquée cumulée')\n",
    "plt.show()"
   ]
  },
  {
   "cell_type": "code",
   "execution_count": 11,
   "metadata": {},
   "outputs": [],
   "source": [
    "# Séparation des données en ensembles d'entraînement et de test\n",
    "X_train, X_test, y_train, y_test = train_test_split(X_pca, y, test_size=0.2, random_state=42)"
   ]
  },
  {
   "cell_type": "code",
   "execution_count": 12,
   "metadata": {},
   "outputs": [],
   "source": [
    "\n",
    "# Normalisation des caractéristiques\n",
    "scaler = StandardScaler()\n",
    "X_train_scaled = scaler.fit_transform(X_train)\n",
    "X_test_scaled = scaler.transform(X_test)\n",
    "\n",
    "\n",
    "# Reshape des données pour convenir à l'entrée d'un CNN\n",
    "X_train_reshaped = X_train_scaled.reshape(X_train_scaled.shape[0], X_train_scaled.shape[1], 1)\n",
    "X_test_reshaped = X_test_scaled.reshape(X_test_scaled.shape[0], X_test_scaled.shape[1], 1)\n"
   ]
  },
  {
   "cell_type": "markdown",
   "metadata": {},
   "source": [
    "Les modèles"
   ]
  },
  {
   "cell_type": "code",
   "execution_count": 13,
   "metadata": {},
   "outputs": [],
   "source": [
    "def get_model1() :\n",
    "    # Création du modèle CNN\n",
    "    model = keras.Sequential([\n",
    "        layers.Conv1D(filters=64, kernel_size=3, activation='relu', input_shape=(X_train_scaled.shape[1], 1)),\n",
    "        layers.MaxPooling1D(pool_size=2),\n",
    "        layers.Flatten(),\n",
    "        layers.Dense(128, activation='relu'),\n",
    "        layers.Dense(1, activation='sigmoid')  # Utiliser 'softmax' si vplus de deux classes\n",
    "    ])\n",
    "\n",
    "    return model\n",
    "\n",
    "def get_model2() :\n",
    "    model = keras.Sequential([\n",
    "        layers.Conv1D(filters=64, kernel_size=3, activation='relu', input_shape=(X_train_scaled.shape[1], 1)),\n",
    "        layers.BatchNormalization(),\n",
    "        layers.MaxPooling1D(pool_size=2),\n",
    "        layers.Conv1D(filters=128, kernel_size=3, activation='relu'),\n",
    "        layers.BatchNormalization(),\n",
    "        layers.MaxPooling1D(pool_size=2),\n",
    "        layers.Flatten(),\n",
    "        layers.Dropout(0.5),\n",
    "        layers.Dense(256, activation='relu'),\n",
    "        layers.Dropout(0.5),\n",
    "        layers.Dense(1, activation='sigmoid')\n",
    "    ])\n",
    "\n",
    "    return model"
   ]
  },
  {
   "cell_type": "markdown",
   "metadata": {},
   "source": [
    "chargement du modèle"
   ]
  },
  {
   "cell_type": "code",
   "execution_count": 14,
   "metadata": {},
   "outputs": [
    {
     "name": "stdout",
     "output_type": "stream",
     "text": [
      "Model: \"sequential\"\n",
      "_________________________________________________________________\n",
      " Layer (type)                Output Shape              Param #   \n",
      "=================================================================\n",
      " conv1d (Conv1D)             (None, 28, 64)            256       \n",
      "                                                                 \n",
      " batch_normalization (BatchN  (None, 28, 64)           256       \n",
      " ormalization)                                                   \n",
      "                                                                 \n",
      " max_pooling1d (MaxPooling1D  (None, 14, 64)           0         \n",
      " )                                                               \n",
      "                                                                 \n",
      " conv1d_1 (Conv1D)           (None, 12, 128)           24704     \n",
      "                                                                 \n",
      " batch_normalization_1 (Batc  (None, 12, 128)          512       \n",
      " hNormalization)                                                 \n",
      "                                                                 \n",
      " max_pooling1d_1 (MaxPooling  (None, 6, 128)           0         \n",
      " 1D)                                                             \n",
      "                                                                 \n",
      " flatten (Flatten)           (None, 768)               0         \n",
      "                                                                 \n",
      " dropout (Dropout)           (None, 768)               0         \n",
      "                                                                 \n",
      " dense (Dense)               (None, 256)               196864    \n",
      "                                                                 \n",
      " dropout_1 (Dropout)         (None, 256)               0         \n",
      "                                                                 \n",
      " dense_1 (Dense)             (None, 1)                 257       \n",
      "                                                                 \n",
      "=================================================================\n",
      "Total params: 222,849\n",
      "Trainable params: 222,465\n",
      "Non-trainable params: 384\n",
      "_________________________________________________________________\n"
     ]
    }
   ],
   "source": [
    "model = get_model2()\n",
    "modele_nom = 'model2_pca'\n",
    "model.summary()\n"
   ]
  },
  {
   "cell_type": "markdown",
   "metadata": {},
   "source": [
    "Les callbacks"
   ]
  },
  {
   "cell_type": "code",
   "execution_count": 15,
   "metadata": {},
   "outputs": [
    {
     "name": "stdout",
     "output_type": "stream",
     "text": [
      "To run tensorboard :\n",
      "tensorboard --logdir d:\\David\\Documents\\workspace python\\ML\\Kepler-planets\\logs\n"
     ]
    }
   ],
   "source": [
    "# ---- Callback tensorboard\n",
    "\n",
    "\n",
    "log_dir = \"./logs/tb_\" + modele_nom + \"_\" + datetime.now().strftime(\"%Y%m%d_%H%M%S\")\n",
    "\n",
    "tensorboard_callback = tf.keras.callbacks.TensorBoard(log_dir=log_dir, histogram_freq=1)\n",
    "\n",
    "# ---- Callback ModelCheckpoint - Save best model\n",
    "save_dir = \"./models/best-\"+modele_nom+\".h5\"\n",
    "bestmodel_callback = tf.keras.callbacks.ModelCheckpoint(filepath=save_dir, verbose=0, monitor='val_accuracy', save_best_only=True)\n",
    "\n",
    "# ---- Callback ModelCheckpoint - Save model each epochs\n",
    "save_dir = \"./models/\"+modele_nom+\"-{epoch:04d}.h5\"\n",
    "savemodel_callback = tf.keras.callbacks.ModelCheckpoint(filepath=save_dir, verbose=0)\n",
    "\n",
    "path=os.path.abspath('./logs')\n",
    "print(f'To run tensorboard :\\ntensorboard --logdir {path}')"
   ]
  },
  {
   "cell_type": "code",
   "execution_count": 16,
   "metadata": {},
   "outputs": [],
   "source": [
    "\n",
    "# Compilation du modèle\n",
    "model.compile(optimizer='adam', loss='binary_crossentropy', metrics=['accuracy'])"
   ]
  },
  {
   "cell_type": "code",
   "execution_count": 17,
   "metadata": {},
   "outputs": [
    {
     "name": "stdout",
     "output_type": "stream",
     "text": [
      "Epoch 1/20\n",
      "156/156 [==============================] - 16s 63ms/step - loss: 0.4652 - accuracy: 0.8317 - val_loss: 0.8518 - val_accuracy: 0.6112\n",
      "Epoch 2/20\n",
      "156/156 [==============================] - 14s 88ms/step - loss: 0.3225 - accuracy: 0.8707 - val_loss: 0.6165 - val_accuracy: 0.7438\n",
      "Epoch 3/20\n",
      "156/156 [==============================] - 7s 41ms/step - loss: 0.2761 - accuracy: 0.8911 - val_loss: 0.3095 - val_accuracy: 0.8779\n",
      "Epoch 4/20\n",
      "156/156 [==============================] - 10s 62ms/step - loss: 0.2650 - accuracy: 0.8925 - val_loss: 0.2343 - val_accuracy: 0.9221\n",
      "Epoch 5/20\n",
      "156/156 [==============================] - 4s 27ms/step - loss: 0.2601 - accuracy: 0.8986 - val_loss: 0.2384 - val_accuracy: 0.9173\n",
      "Epoch 6/20\n",
      "156/156 [==============================] - 4s 23ms/step - loss: 0.2321 - accuracy: 0.9118 - val_loss: 0.2334 - val_accuracy: 0.9213\n",
      "Epoch 7/20\n",
      "156/156 [==============================] - 4s 24ms/step - loss: 0.2210 - accuracy: 0.9146 - val_loss: 0.2156 - val_accuracy: 0.9261\n",
      "Epoch 8/20\n",
      "156/156 [==============================] - 4s 27ms/step - loss: 0.2238 - accuracy: 0.9084 - val_loss: 0.2090 - val_accuracy: 0.9293\n",
      "Epoch 9/20\n",
      "156/156 [==============================] - 4s 28ms/step - loss: 0.2047 - accuracy: 0.9229 - val_loss: 0.2169 - val_accuracy: 0.9293\n",
      "Epoch 10/20\n",
      "156/156 [==============================] - 4s 28ms/step - loss: 0.2033 - accuracy: 0.9207 - val_loss: 0.2084 - val_accuracy: 0.9245\n",
      "Epoch 11/20\n",
      "156/156 [==============================] - 4s 25ms/step - loss: 0.1915 - accuracy: 0.9239 - val_loss: 0.2209 - val_accuracy: 0.9173\n",
      "Epoch 12/20\n",
      "156/156 [==============================] - 4s 25ms/step - loss: 0.1905 - accuracy: 0.9271 - val_loss: 0.2228 - val_accuracy: 0.9197\n",
      "Epoch 13/20\n",
      "156/156 [==============================] - 4s 26ms/step - loss: 0.1805 - accuracy: 0.9301 - val_loss: 0.2341 - val_accuracy: 0.9253\n",
      "Epoch 14/20\n",
      "156/156 [==============================] - 3s 22ms/step - loss: 0.1795 - accuracy: 0.9287 - val_loss: 0.2125 - val_accuracy: 0.9261\n",
      "Epoch 15/20\n",
      "156/156 [==============================] - 3s 21ms/step - loss: 0.1860 - accuracy: 0.9293 - val_loss: 0.2490 - val_accuracy: 0.9068\n",
      "Epoch 16/20\n",
      "156/156 [==============================] - 3s 21ms/step - loss: 0.1703 - accuracy: 0.9345 - val_loss: 0.2119 - val_accuracy: 0.9285\n",
      "Epoch 17/20\n",
      "156/156 [==============================] - 3s 22ms/step - loss: 0.1719 - accuracy: 0.9343 - val_loss: 0.2183 - val_accuracy: 0.9213\n",
      "Epoch 18/20\n",
      "156/156 [==============================] - 3s 21ms/step - loss: 0.1663 - accuracy: 0.9420 - val_loss: 0.2083 - val_accuracy: 0.9269\n",
      "Epoch 19/20\n",
      "156/156 [==============================] - 3s 20ms/step - loss: 0.1663 - accuracy: 0.9359 - val_loss: 0.2145 - val_accuracy: 0.9269\n",
      "Epoch 20/20\n",
      "156/156 [==============================] - 4s 23ms/step - loss: 0.1655 - accuracy: 0.9367 - val_loss: 0.2761 - val_accuracy: 0.9004\n"
     ]
    },
    {
     "name": "stderr",
     "output_type": "stream",
     "text": [
      "WARNING:absl:Found untraced functions such as _jit_compiled_convolution_op, _jit_compiled_convolution_op while saving (showing 2 of 2). These functions will not be directly callable after loading.\n"
     ]
    },
    {
     "name": "stdout",
     "output_type": "stream",
     "text": [
      "INFO:tensorflow:Assets written to: ./models/last-model2_pca\\assets\n"
     ]
    },
    {
     "name": "stderr",
     "output_type": "stream",
     "text": [
      "INFO:tensorflow:Assets written to: ./models/last-model2_pca\\assets\n"
     ]
    }
   ],
   "source": [
    "\n",
    "# Entraînement du modèle\n",
    "model.fit(X_train_reshaped, y_train, epochs=20, batch_size=32, validation_split=0.2,\n",
    "                      callbacks=[tensorboard_callback, bestmodel_callback, savemodel_callback] )\n",
    "\n",
    "model.save('./models/last-'+modele_nom)"
   ]
  },
  {
   "cell_type": "markdown",
   "metadata": {},
   "source": [
    "#### Evaluation"
   ]
  },
  {
   "cell_type": "code",
   "execution_count": 18,
   "metadata": {},
   "outputs": [
    {
     "name": "stdout",
     "output_type": "stream",
     "text": [
      "49/49 [==============================] - 1s 9ms/step\n"
     ]
    }
   ],
   "source": [
    "\n",
    "# Évaluation du modèle\n",
    "y_pred = model.predict(X_test_reshaped)\n",
    "\n",
    "# Convertir les probabilités en classes binaires en utilisant un seuil (0.5 dans cet exemple)\n",
    "y_pred_binary = (y_pred > 0.5).astype(int)\n"
   ]
  },
  {
   "cell_type": "code",
   "execution_count": 19,
   "metadata": {},
   "outputs": [
    {
     "name": "stdout",
     "output_type": "stream",
     "text": [
      "Accuracy: 0.910025706940874\n"
     ]
    },
    {
     "data": {
      "image/png": "[encoded data removed]",
      "text/plain": [
       "<Figure size 800x600 with 2 Axes>"
      ]
     },
     "metadata": {},
     "output_type": "display_data"
    },
    {
     "name": "stdout",
     "output_type": "stream",
     "text": [
      "Classification Report:\n",
      "              precision    recall  f1-score   support\n",
      "\n",
      "           0       0.98      0.85      0.91       800\n",
      "           1       0.86      0.98      0.91       756\n",
      "\n",
      "    accuracy                           0.91      1556\n",
      "   macro avg       0.92      0.91      0.91      1556\n",
      "weighted avg       0.92      0.91      0.91      1556\n",
      "\n"
     ]
    }
   ],
   "source": [
    "\n",
    "# Calcul de l'accuracy\n",
    "accuracy = accuracy_score(y_test, y_pred_binary)\n",
    "\n",
    "print(f'Accuracy: {accuracy}')\n",
    "\n",
    "# Affichage de la matrice de confusion\n",
    "conf_matrix = confusion_matrix(y_test, y_pred_binary)\n",
    "# Afficher la matrice de confusion avec seaborn\n",
    "plt.figure(figsize=(8, 6))\n",
    "sns.heatmap(conf_matrix, annot=True, fmt='d', cmap='Blues', \n",
    "            xticklabels=['Non-Exoplanet', 'Exoplanet'],\n",
    "            yticklabels=['Non-Exoplanet', 'Exoplanet'])\n",
    "plt.title('Matrice de Confusion')\n",
    "plt.xlabel('Prédit')\n",
    "plt.ylabel('Réel')\n",
    "plt.show()\n",
    "\n",
    "# Affichage du rapport de classification\n",
    "class_report = classification_report(y_test, y_pred_binary)\n",
    "print('Classification Report:')\n",
    "print(class_report)"
   ]
  },
  {
   "cell_type": "markdown",
   "metadata": {},
   "source": [
    "Meilleur modèle"
   ]
  },
  {
   "cell_type": "code",
   "execution_count": 20,
   "metadata": {},
   "outputs": [
    {
     "name": "stdout",
     "output_type": "stream",
     "text": [
      "49/49 [==============================] - 1s 7ms/step\n",
      "Accuracy: 0.9241645244215938\n"
     ]
    },
    {
     "data": {
      "image/png": "[encoded data removed]",
      "text/plain": [
       "<Figure size 800x600 with 2 Axes>"
      ]
     },
     "metadata": {},
     "output_type": "display_data"
    },
    {
     "name": "stdout",
     "output_type": "stream",
     "text": [
      "Classification Report:\n",
      "              precision    recall  f1-score   support\n",
      "\n",
      "           0       0.95      0.90      0.92       800\n",
      "           1       0.90      0.96      0.92       756\n",
      "\n",
      "    accuracy                           0.92      1556\n",
      "   macro avg       0.93      0.93      0.92      1556\n",
      "weighted avg       0.93      0.92      0.92      1556\n",
      "\n"
     ]
    }
   ],
   "source": [
    "# Charger le meilleur modèle\n",
    "best_model = load_model('./models/best-'+modele_nom+\".h5\")\n",
    "\n",
    "# données du meilleur modèle \n",
    "#X_test_reshaped = X_test.reshape(-1, 1, 1)\n",
    "\n",
    "#accuracy\n",
    "y_pred = best_model.predict(X_test_reshaped)\n",
    "y_pred_binary = (y_pred > 0.5).astype(int)\n",
    "accuracy = accuracy_score(y_test, y_pred_binary)\n",
    "print(f'Accuracy: {accuracy}')\n",
    "\n",
    "# Affichage de la matrice de confusion\n",
    "conf_matrix = confusion_matrix(y_test, y_pred_binary)\n",
    "# Afficher la matrice de confusion avec seaborn\n",
    "plt.figure(figsize=(8, 6))\n",
    "sns.heatmap(conf_matrix, annot=True, fmt='d', cmap='Blues', \n",
    "            xticklabels=['Non-Exoplanet', 'Exoplanet'],\n",
    "            yticklabels=['Non-Exoplanet', 'Exoplanet'])\n",
    "plt.title('Matrice de Confusion')\n",
    "plt.xlabel('Prédit')\n",
    "plt.ylabel('Réel')\n",
    "plt.show()\n",
    "\n",
    "# Affichage du rapport de classification\n",
    "class_report = classification_report(y_test, y_pred_binary)\n",
    "print('Classification Report:')\n",
    "print(class_report)"
   ]
  },
  {
   "cell_type": "markdown",
   "metadata": {},
   "source": [
    "## CONCLUSION\n",
    "\n",
    "PCA n'apporte rien en terme d'amélioration du modèle sur ce jeu de données."
   ]
  }
 ],
 "metadata": {
  "kernelspec": {
   "display_name": "ML",
   "language": "python",
   "name": "python3"
  },
  "language_info": {
   "codemirror_mode": {
    "name": "ipython",
    "version": 3
   },
   "file_extension": ".py",
   "mimetype": "text/x-python",
   "name": "python",
   "nbconvert_exporter": "python",
   "pygments_lexer": "ipython3",
   "version": "3.10.13"
  },
  "orig_nbformat": 4,
  "vscode": {
   "interpreter": {
    "hash": "52afa77bcd31101b59044b0a63871bfc547a011612f81e6f8319dea4e659101b"
   }
  }
 },
 "nbformat": 4,
 "nbformat_minor": 2
}

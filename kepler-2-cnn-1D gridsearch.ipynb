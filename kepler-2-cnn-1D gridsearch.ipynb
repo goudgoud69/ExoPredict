{
 "cells": [
  {
   "attachments": {},
   "cell_type": "markdown",
   "metadata": {},
   "source": [
    "# Projet d'analyse des résultats des détections des exoplanètes par le télescope Kepler\n",
    "\n",
    "Source : This file was produced by the NASA Exoplanet Archive  http://exoplanetarchive.ipac.caltech.edu\n",
    "Tue Jan 23 10:50:14 2024\n",
    "\n",
    "### Objectif :\n",
    "A partir de la validité des résultats de détection des exoplanètes par le télescope Kepler obtenir un modèle de prédiction de la probabilité d'avoir un exoplanète sur une planète Terrestre.\n",
    "\n",
    "### Modèle CNN 1D\n",
    "Usage de GridSearchCV pour optimiser les hyperparamètres du modèle.\n",
    "\n",
    "Au 28/01/2024 : Best: 0.942642 using {'activation': 'relu', 'epochs': 30, 'filters': 64, 'kernel_size': 3, 'optimizer': 'adam'}\n"
   ]
  },
  {
   "cell_type": "code",
   "execution_count": 29,
   "metadata": {},
   "outputs": [],
   "source": [
    "import os\n",
    "from datetime import datetime\n",
    "\n",
    "import pandas as pd\n",
    "import numpy as np\n",
    "\n",
    "from sklearn.model_selection import train_test_split\n",
    "from sklearn.preprocessing import StandardScaler\n",
    "from sklearn.compose import ColumnTransformer\n",
    "from sklearn.pipeline import Pipeline\n",
    "from sklearn.impute import SimpleImputer\n",
    "from sklearn.preprocessing import OneHotEncoder\n",
    "from sklearn.metrics import accuracy_score\n",
    "from sklearn.model_selection import train_test_split\n",
    "from sklearn.preprocessing import StandardScaler\n",
    "from sklearn.compose import ColumnTransformer\n",
    "from sklearn.pipeline import Pipeline\n",
    "from sklearn.impute import SimpleImputer\n",
    "from sklearn.preprocessing import OneHotEncoder\n",
    "from sklearn.ensemble import RandomForestClassifier\n",
    "from sklearn.metrics import classification_report, confusion_matrix\n",
    "from sklearn import metrics\n",
    "from sklearn.model_selection import GridSearchCV\n",
    "\n",
    "import seaborn as sns\n",
    "\n",
    "import matplotlib.pyplot as plt\n",
    "\n",
    "import tensorflow as tf\n",
    "from tensorflow import keras\n",
    "from tensorflow.keras import layers\n",
    "from tensorflow.keras.callbacks import TensorBoard\n",
    "from tensorflow.keras.models import load_model, save_model\n",
    "\n",
    "from keras.wrappers.scikit_learn import KerasClassifier\n",
    "\n"
   ]
  },
  {
   "cell_type": "code",
   "execution_count": 30,
   "metadata": {},
   "outputs": [
    {
     "data": {
      "text/html": [
       "<div>\n",
       "<style scoped>\n",
       "    .dataframe tbody tr th:only-of-type {\n",
       "        vertical-align: middle;\n",
       "    }\n",
       "\n",
       "    .dataframe tbody tr th {\n",
       "        vertical-align: top;\n",
       "    }\n",
       "\n",
       "    .dataframe thead th {\n",
       "        text-align: right;\n",
       "    }\n",
       "</style>\n",
       "<table border=\"1\" class=\"dataframe\">\n",
       "  <thead>\n",
       "    <tr style=\"text-align: right;\">\n",
       "      <th></th>\n",
       "      <th>koi_steff</th>\n",
       "      <th>koi_steff_err1</th>\n",
       "      <th>koi_steff_err2</th>\n",
       "      <th>koi_slogg</th>\n",
       "      <th>koi_slogg_err1</th>\n",
       "      <th>koi_slogg_err2</th>\n",
       "      <th>koi_smet</th>\n",
       "      <th>koi_smet_err1</th>\n",
       "      <th>koi_smet_err2</th>\n",
       "      <th>koi_srad</th>\n",
       "      <th>...</th>\n",
       "      <th>koi_dicco_mdec_err</th>\n",
       "      <th>koi_dicco_msky</th>\n",
       "      <th>koi_dicco_msky_err</th>\n",
       "      <th>koi_dikco_mra</th>\n",
       "      <th>koi_dikco_mra_err</th>\n",
       "      <th>koi_dikco_mdec</th>\n",
       "      <th>koi_dikco_mdec_err</th>\n",
       "      <th>koi_dikco_msky</th>\n",
       "      <th>koi_dikco_msky_err</th>\n",
       "      <th>target</th>\n",
       "    </tr>\n",
       "  </thead>\n",
       "  <tbody>\n",
       "    <tr>\n",
       "      <th>0</th>\n",
       "      <td>4499.0</td>\n",
       "      <td>89.0</td>\n",
       "      <td>-89.0</td>\n",
       "      <td>4.635</td>\n",
       "      <td>0.032</td>\n",
       "      <td>-0.020</td>\n",
       "      <td>-0.26</td>\n",
       "      <td>0.15</td>\n",
       "      <td>-0.15</td>\n",
       "      <td>0.639</td>\n",
       "      <td>...</td>\n",
       "      <td>0.210</td>\n",
       "      <td>0.210</td>\n",
       "      <td>0.190</td>\n",
       "      <td>-0.41</td>\n",
       "      <td>0.180</td>\n",
       "      <td>-0.43</td>\n",
       "      <td>0.220</td>\n",
       "      <td>0.59</td>\n",
       "      <td>0.190</td>\n",
       "      <td>1</td>\n",
       "    </tr>\n",
       "    <tr>\n",
       "      <th>1</th>\n",
       "      <td>5365.0</td>\n",
       "      <td>191.0</td>\n",
       "      <td>-175.0</td>\n",
       "      <td>3.669</td>\n",
       "      <td>0.816</td>\n",
       "      <td>-0.204</td>\n",
       "      <td>-0.04</td>\n",
       "      <td>0.30</td>\n",
       "      <td>-0.30</td>\n",
       "      <td>2.872</td>\n",
       "      <td>...</td>\n",
       "      <td>0.076</td>\n",
       "      <td>14.558</td>\n",
       "      <td>0.099</td>\n",
       "      <td>-13.90</td>\n",
       "      <td>0.072</td>\n",
       "      <td>4.37</td>\n",
       "      <td>0.081</td>\n",
       "      <td>14.57</td>\n",
       "      <td>0.077</td>\n",
       "      <td>0</td>\n",
       "    </tr>\n",
       "    <tr>\n",
       "      <th>2</th>\n",
       "      <td>6014.0</td>\n",
       "      <td>190.0</td>\n",
       "      <td>-211.0</td>\n",
       "      <td>4.436</td>\n",
       "      <td>0.072</td>\n",
       "      <td>-0.217</td>\n",
       "      <td>-0.04</td>\n",
       "      <td>0.25</td>\n",
       "      <td>-0.30</td>\n",
       "      <td>1.021</td>\n",
       "      <td>...</td>\n",
       "      <td>0.620</td>\n",
       "      <td>0.500</td>\n",
       "      <td>0.980</td>\n",
       "      <td>0.14</td>\n",
       "      <td>0.930</td>\n",
       "      <td>-0.40</td>\n",
       "      <td>0.620</td>\n",
       "      <td>0.42</td>\n",
       "      <td>0.860</td>\n",
       "      <td>1</td>\n",
       "    </tr>\n",
       "    <tr>\n",
       "      <th>3</th>\n",
       "      <td>4498.0</td>\n",
       "      <td>90.0</td>\n",
       "      <td>-90.0</td>\n",
       "      <td>4.661</td>\n",
       "      <td>0.012</td>\n",
       "      <td>-0.042</td>\n",
       "      <td>-0.08</td>\n",
       "      <td>0.15</td>\n",
       "      <td>-0.15</td>\n",
       "      <td>0.635</td>\n",
       "      <td>...</td>\n",
       "      <td>0.270</td>\n",
       "      <td>0.130</td>\n",
       "      <td>0.600</td>\n",
       "      <td>0.58</td>\n",
       "      <td>0.710</td>\n",
       "      <td>-0.25</td>\n",
       "      <td>0.270</td>\n",
       "      <td>0.63</td>\n",
       "      <td>0.590</td>\n",
       "      <td>1</td>\n",
       "    </tr>\n",
       "    <tr>\n",
       "      <th>4</th>\n",
       "      <td>5839.0</td>\n",
       "      <td>105.0</td>\n",
       "      <td>-105.0</td>\n",
       "      <td>4.327</td>\n",
       "      <td>0.156</td>\n",
       "      <td>-0.104</td>\n",
       "      <td>-0.28</td>\n",
       "      <td>0.15</td>\n",
       "      <td>-0.15</td>\n",
       "      <td>1.067</td>\n",
       "      <td>...</td>\n",
       "      <td>0.630</td>\n",
       "      <td>0.570</td>\n",
       "      <td>0.580</td>\n",
       "      <td>0.40</td>\n",
       "      <td>0.610</td>\n",
       "      <td>0.12</td>\n",
       "      <td>0.730</td>\n",
       "      <td>0.41</td>\n",
       "      <td>0.570</td>\n",
       "      <td>1</td>\n",
       "    </tr>\n",
       "  </tbody>\n",
       "</table>\n",
       "<p>5 rows × 51 columns</p>\n",
       "</div>"
      ],
      "text/plain": [
       "   koi_steff  koi_steff_err1  koi_steff_err2  koi_slogg  koi_slogg_err1  \\\n",
       "0     4499.0            89.0           -89.0      4.635           0.032   \n",
       "1     5365.0           191.0          -175.0      3.669           0.816   \n",
       "2     6014.0           190.0          -211.0      4.436           0.072   \n",
       "3     4498.0            90.0           -90.0      4.661           0.012   \n",
       "4     5839.0           105.0          -105.0      4.327           0.156   \n",
       "\n",
       "   koi_slogg_err2  koi_smet  koi_smet_err1  koi_smet_err2  koi_srad  ...  \\\n",
       "0          -0.020     -0.26           0.15          -0.15     0.639  ...   \n",
       "1          -0.204     -0.04           0.30          -0.30     2.872  ...   \n",
       "2          -0.217     -0.04           0.25          -0.30     1.021  ...   \n",
       "3          -0.042     -0.08           0.15          -0.15     0.635  ...   \n",
       "4          -0.104     -0.28           0.15          -0.15     1.067  ...   \n",
       "\n",
       "   koi_dicco_mdec_err  koi_dicco_msky  koi_dicco_msky_err  koi_dikco_mra  \\\n",
       "0               0.210           0.210               0.190          -0.41   \n",
       "1               0.076          14.558               0.099         -13.90   \n",
       "2               0.620           0.500               0.980           0.14   \n",
       "3               0.270           0.130               0.600           0.58   \n",
       "4               0.630           0.570               0.580           0.40   \n",
       "\n",
       "   koi_dikco_mra_err  koi_dikco_mdec  koi_dikco_mdec_err  koi_dikco_msky  \\\n",
       "0              0.180           -0.43               0.220            0.59   \n",
       "1              0.072            4.37               0.081           14.57   \n",
       "2              0.930           -0.40               0.620            0.42   \n",
       "3              0.710           -0.25               0.270            0.63   \n",
       "4              0.610            0.12               0.730            0.41   \n",
       "\n",
       "   koi_dikco_msky_err  target  \n",
       "0               0.190       1  \n",
       "1               0.077       0  \n",
       "2               0.860       1  \n",
       "3               0.590       1  \n",
       "4               0.570       1  \n",
       "\n",
       "[5 rows x 51 columns]"
      ]
     },
     "execution_count": 30,
     "metadata": {},
     "output_type": "execute_result"
    }
   ],
   "source": [
    "\n",
    "# Charger ensemble de données ici (new_data par exemple)\n",
    "new_data = pd.read_csv('./dataset/data_resampled.csv')\n",
    "new_data.head()"
   ]
  },
  {
   "cell_type": "code",
   "execution_count": 31,
   "metadata": {},
   "outputs": [],
   "source": [
    "\n",
    "# Séparation des caractéristiques (X) et de la cible (y)\n",
    "X = new_data.drop('target', axis=1)\n",
    "y = new_data['target']\n",
    "\n",
    "# Séparation des données en ensembles d'entraînement et de test\n",
    "X_train, X_test, y_train, y_test = train_test_split(X, y, test_size=0.2, random_state=42)"
   ]
  },
  {
   "cell_type": "code",
   "execution_count": 32,
   "metadata": {},
   "outputs": [],
   "source": [
    "\n",
    "# Normalisation des caractéristiques\n",
    "scaler = StandardScaler()\n",
    "X_train_scaled = scaler.fit_transform(X_train)\n",
    "X_test_scaled = scaler.transform(X_test)\n",
    "\n",
    "\n",
    "# Reshape des données pour convenir à l'entrée d'un CNN\n",
    "X_train_reshaped = X_train_scaled.reshape(X_train_scaled.shape[0], X_train_scaled.shape[1], 1)\n",
    "X_test_reshaped = X_test_scaled.reshape(X_test_scaled.shape[0], X_test_scaled.shape[1], 1)\n"
   ]
  },
  {
   "cell_type": "markdown",
   "metadata": {},
   "source": [
    "Les modèles"
   ]
  },
  {
   "cell_type": "code",
   "execution_count": 33,
   "metadata": {},
   "outputs": [],
   "source": [
    "def create_model(filters, kernel_size, activation, optimizer):\n",
    "    model = keras.Sequential([\n",
    "        layers.Conv1D(filters=filters, kernel_size=kernel_size, activation=activation, input_shape=(X_train_scaled.shape[1], 1)),\n",
    "        layers.BatchNormalization(),\n",
    "        layers.MaxPooling1D(pool_size=2),\n",
    "        layers.Conv1D(filters=filters*2, kernel_size=kernel_size, activation=activation),\n",
    "        layers.BatchNormalization(),\n",
    "        layers.MaxPooling1D(pool_size=2),\n",
    "        layers.Flatten(),\n",
    "        layers.Dropout(0.5),\n",
    "        layers.Dense(256, activation=activation),\n",
    "        layers.Dropout(0.5),\n",
    "        layers.Dense(1, activation='sigmoid')\n",
    "    ])\n",
    "    \n",
    "    model.compile(loss='binary_crossentropy', optimizer=optimizer, metrics=['accuracy'])\n",
    "    \n",
    "    return model\n",
    "\n"
   ]
  },
  {
   "cell_type": "code",
   "execution_count": 34,
   "metadata": {},
   "outputs": [],
   "source": [
    "modele_nom = 'model_grid_3'"
   ]
  },
  {
   "cell_type": "code",
   "execution_count": 35,
   "metadata": {},
   "outputs": [
    {
     "name": "stdout",
     "output_type": "stream",
     "text": [
      "To run tensorboard :\n",
      "tensorboard --logdir d:\\David\\Documents\\workspace python\\ML\\Kepler-planets\\logs\n"
     ]
    }
   ],
   "source": [
    "# ---- Callback tensorboard\n",
    "\n",
    "\n",
    "log_dir = \"./logs/tb_\" + modele_nom + \"_\" + datetime.now().strftime(\"%Y%m%d_%H%M%S\")\n",
    "\n",
    "tensorboard_callback = tf.keras.callbacks.TensorBoard(log_dir=log_dir, histogram_freq=1)\n",
    "\n",
    "# ---- Callback ModelCheckpoint - Save best model\n",
    "save_dir = \"./models/best-\"+modele_nom+\".h5\"\n",
    "bestmodel_callback = tf.keras.callbacks.ModelCheckpoint(filepath=save_dir, verbose=0, monitor='accuracy', save_best_only=True)\n",
    "\n",
    "# ---- Callback ModelCheckpoint - Save model each epochs\n",
    "save_dir = \"./models/\"+modele_nom+\"-{epoch:04d}.h5\"\n",
    "savemodel_callback = tf.keras.callbacks.ModelCheckpoint(filepath=save_dir, verbose=0)\n",
    "\n",
    "path=os.path.abspath('./logs')\n",
    "print(f'To run tensorboard :\\ntensorboard --logdir {path}')"
   ]
  },
  {
   "cell_type": "markdown",
   "metadata": {},
   "source": [
    "chargement du modèle"
   ]
  },
  {
   "cell_type": "code",
   "execution_count": 36,
   "metadata": {},
   "outputs": [
    {
     "name": "stderr",
     "output_type": "stream",
     "text": [
      "C:\\Users\\Utilisateur\\AppData\\Local\\Temp\\ipykernel_23188\\3858710903.py:2: DeprecationWarning: KerasClassifier is deprecated, use Sci-Keras (https://github.com/adriangb/scikeras) instead. See https://www.adriangb.com/scikeras/stable/migration.html for help migrating.\n",
      "  model = KerasClassifier(build_fn=create_model, epochs=10, batch_size=32, verbose=0, callbacks=[tensorboard_callback, bestmodel_callback, savemodel_callback])\n"
     ]
    }
   ],
   "source": [
    "\n",
    "# Convertir le modèle Keras en modèle compatible avec scikit-learn\n",
    "model = KerasClassifier(build_fn=create_model, epochs=10, batch_size=32, verbose=0, callbacks=[tensorboard_callback, bestmodel_callback, savemodel_callback])\n",
    "\n",
    "# Définir la grille des hyperparamètres\n",
    "param_grid = {\n",
    "    'filters': [64,128],\n",
    "    'kernel_size': [3],\n",
    "    'activation': ['relu'],\n",
    "    'optimizer': ['adam'],\n",
    "    'epochs': [30]\n",
    "}\n"
   ]
  },
  {
   "cell_type": "code",
   "execution_count": 37,
   "metadata": {},
   "outputs": [
    {
     "name": "stdout",
     "output_type": "stream",
     "text": [
      "65/65 [==============================] - 1s 12ms/step\n",
      "65/65 [==============================] - 1s 8ms/step\n",
      "65/65 [==============================] - 1s 8ms/step\n",
      "65/65 [==============================] - 1s 14ms/step\n",
      "65/65 [==============================] - 1s 13ms/step\n",
      "65/65 [==============================] - 1s 15ms/step\n",
      "Best: 0.942642 using {'activation': 'relu', 'epochs': 30, 'filters': 64, 'kernel_size': 3, 'optimizer': 'adam'}\n"
     ]
    }
   ],
   "source": [
    "\n",
    "# Compilation du modèle\n",
    "# Créer la grille de recherche\n",
    "grid = GridSearchCV(estimator=model, param_grid=param_grid, scoring='accuracy', cv=3)\n",
    "grid_result = grid.fit(X_train_scaled, y_train)\n",
    "\n",
    "# Afficher les résultats\n",
    "print(\"Best: %f using %s\" % (grid_result.best_score_, grid_result.best_params_))\n",
    "\n",
    "# Best: 0.942642 using {'activation': 'relu', 'epochs': 30, 'filters': 64, 'kernel_size': 3, 'optimizer': 'adam'}"
   ]
  },
  {
   "cell_type": "markdown",
   "metadata": {},
   "source": [
    "#### Evaluation"
   ]
  },
  {
   "cell_type": "code",
   "execution_count": 40,
   "metadata": {},
   "outputs": [
    {
     "name": "stdout",
     "output_type": "stream",
     "text": [
      "49/49 [==============================] - 1s 10ms/step\n"
     ]
    },
    {
     "name": "stderr",
     "output_type": "stream",
     "text": [
      "WARNING:absl:Found untraced functions such as _jit_compiled_convolution_op, _jit_compiled_convolution_op while saving (showing 2 of 2). These functions will not be directly callable after loading.\n"
     ]
    },
    {
     "name": "stdout",
     "output_type": "stream",
     "text": [
      "INFO:tensorflow:Assets written to: ./models/best-model_grid_3\\assets\n"
     ]
    },
    {
     "name": "stderr",
     "output_type": "stream",
     "text": [
      "INFO:tensorflow:Assets written to: ./models/best-model_grid_3\\assets\n"
     ]
    }
   ],
   "source": [
    "\n",
    "# Évaluation du modèle\n",
    "# Récupérer le meilleur modèle\n",
    "best_model = grid_result.best_estimator_.model\n",
    "y_pred = best_model.predict(X_test_reshaped)\n",
    "\n",
    "# Convertir les probabilités en classes binaires en utilisant un seuil (0.5 dans cet exemple)\n",
    "y_pred_binary = (y_pred > 0.5).astype(int)\n",
    "\n",
    "\n",
    "best_model.save('./models/best-'+modele_nom)"
   ]
  },
  {
   "cell_type": "code",
   "execution_count": 42,
   "metadata": {},
   "outputs": [
    {
     "name": "stdout",
     "output_type": "stream",
     "text": [
      "val_accuracy: 0.9511568123393316\n"
     ]
    },
    {
     "data": {
      "image/png": "[encoded data removed]",
      "text/plain": [
       "<Figure size 800x600 with 2 Axes>"
      ]
     },
     "metadata": {},
     "output_type": "display_data"
    },
    {
     "name": "stdout",
     "output_type": "stream",
     "text": [
      "Classification Report:\n",
      "              precision    recall  f1-score   support\n",
      "\n",
      "           0       0.96      0.94      0.95       800\n",
      "           1       0.94      0.96      0.95       756\n",
      "\n",
      "    accuracy                           0.95      1556\n",
      "   macro avg       0.95      0.95      0.95      1556\n",
      "weighted avg       0.95      0.95      0.95      1556\n",
      "\n"
     ]
    }
   ],
   "source": [
    "\n",
    "# Calcul de l'accuracy\n",
    "accuracy = accuracy_score(y_test, y_pred_binary)\n",
    "\n",
    "print(f'val_accuracy: {accuracy}')\n",
    "\n",
    "# Affichage de la matrice de confusion\n",
    "conf_matrix = confusion_matrix(y_test, y_pred_binary)\n",
    "# Afficher la matrice de confusion avec seaborn\n",
    "plt.figure(figsize=(8, 6))\n",
    "sns.heatmap(conf_matrix, annot=True, fmt='d', cmap='Blues', \n",
    "            xticklabels=['Non-Exoplanet', 'Exoplanet'],\n",
    "            yticklabels=['Non-Exoplanet', 'Exoplanet'])\n",
    "plt.title('Matrice de Confusion')\n",
    "plt.xlabel('Prédit')\n",
    "plt.ylabel('Réel')\n",
    "plt.show()\n",
    "\n",
    "# Affichage du rapport de classification\n",
    "class_report = classification_report(y_test, y_pred_binary)\n",
    "print('Classification Report:')\n",
    "print(class_report)"
   ]
  }
 ],
 "metadata": {
  "kernelspec": {
   "display_name": "ML",
   "language": "python",
   "name": "python3"
  },
  "language_info": {
   "codemirror_mode": {
    "name": "ipython",
    "version": 3
   },
   "file_extension": ".py",
   "mimetype": "text/x-python",
   "name": "python",
   "nbconvert_exporter": "python",
   "pygments_lexer": "ipython3",
   "version": "3.10.13"
  },
  "orig_nbformat": 4,
  "vscode": {
   "interpreter": {
    "hash": "52afa77bcd31101b59044b0a63871bfc547a011612f81e6f8319dea4e659101b"
   }
  }
 },
 "nbformat": 4,
 "nbformat_minor": 2
}

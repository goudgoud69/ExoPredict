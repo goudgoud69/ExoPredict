{
 "cells": [
  {
   "attachments": {},
   "cell_type": "markdown",
   "metadata": {},
   "source": [
    "# Projet d'analyse des résultats des détections des exoplanètes par le télescope Kepler\n",
    "\n",
    "Source : This file was produced by the NASA Exoplanet Archive  http://exoplanetarchive.ipac.caltech.edu\n",
    "Tue Jan 23 10:50:14 2024\n",
    "\n",
    "### Objectif :\n",
    "A partir de la validité des résultats de détection des exoplanètes par le télescope Kepler obtenir un modèle de prédiction de la probabilité d'avoir un exoplanète sur une planète Terrestre.\n",
    "\n",
    "### Application RandomForest et validation croisée\n",
    "\n"
   ]
  },
  {
   "cell_type": "code",
   "execution_count": 17,
   "metadata": {},
   "outputs": [],
   "source": [
    "import os\n",
    "from datetime import datetime\n",
    "\n",
    "import pandas as pd\n",
    "import numpy as np\n",
    "\n",
    "from sklearn.model_selection import train_test_split\n",
    "from sklearn.metrics import accuracy_score\n",
    "from sklearn.model_selection import train_test_split\n",
    "from sklearn.metrics import classification_report, confusion_matrix\n",
    "from sklearn import metrics\n",
    "from sklearn.model_selection import cross_val_score, StratifiedKFold\n",
    "from sklearn.ensemble import RandomForestClassifier\n",
    "from sklearn.model_selection import cross_val_score, cross_val_predict, KFold\n",
    "from sklearn.ensemble import RandomForestClassifier\n",
    "from sklearn.metrics import confusion_matrix, accuracy_score, precision_score, recall_score, f1_score\n",
    "\n",
    "\n",
    "import seaborn as sns\n",
    "\n",
    "import matplotlib.pyplot as plt\n",
    "\n"
   ]
  },
  {
   "cell_type": "code",
   "execution_count": 18,
   "metadata": {},
   "outputs": [
    {
     "data": {
      "text/html": [
       "<div>\n",
       "<style scoped>\n",
       "    .dataframe tbody tr th:only-of-type {\n",
       "        vertical-align: middle;\n",
       "    }\n",
       "\n",
       "    .dataframe tbody tr th {\n",
       "        vertical-align: top;\n",
       "    }\n",
       "\n",
       "    .dataframe thead th {\n",
       "        text-align: right;\n",
       "    }\n",
       "</style>\n",
       "<table border=\"1\" class=\"dataframe\">\n",
       "  <thead>\n",
       "    <tr style=\"text-align: right;\">\n",
       "      <th></th>\n",
       "      <th>koi_steff</th>\n",
       "      <th>koi_steff_err1</th>\n",
       "      <th>koi_steff_err2</th>\n",
       "      <th>koi_slogg</th>\n",
       "      <th>koi_slogg_err1</th>\n",
       "      <th>koi_slogg_err2</th>\n",
       "      <th>koi_smet</th>\n",
       "      <th>koi_smet_err1</th>\n",
       "      <th>koi_smet_err2</th>\n",
       "      <th>koi_srad</th>\n",
       "      <th>...</th>\n",
       "      <th>koi_dicco_mdec_err</th>\n",
       "      <th>koi_dicco_msky</th>\n",
       "      <th>koi_dicco_msky_err</th>\n",
       "      <th>koi_dikco_mra</th>\n",
       "      <th>koi_dikco_mra_err</th>\n",
       "      <th>koi_dikco_mdec</th>\n",
       "      <th>koi_dikco_mdec_err</th>\n",
       "      <th>koi_dikco_msky</th>\n",
       "      <th>koi_dikco_msky_err</th>\n",
       "      <th>target</th>\n",
       "    </tr>\n",
       "  </thead>\n",
       "  <tbody>\n",
       "    <tr>\n",
       "      <th>0</th>\n",
       "      <td>-1.455270</td>\n",
       "      <td>-1.069120</td>\n",
       "      <td>0.927458</td>\n",
       "      <td>0.761880</td>\n",
       "      <td>-0.680589</td>\n",
       "      <td>1.453036</td>\n",
       "      <td>-0.588642</td>\n",
       "      <td>-0.905873</td>\n",
       "      <td>1.041867</td>\n",
       "      <td>-0.191314</td>\n",
       "      <td>...</td>\n",
       "      <td>-0.343219</td>\n",
       "      <td>-0.505704</td>\n",
       "      <td>-0.383257</td>\n",
       "      <td>-0.182823</td>\n",
       "      <td>-0.322156</td>\n",
       "      <td>-0.141307</td>\n",
       "      <td>-0.306647</td>\n",
       "      <td>-0.366621</td>\n",
       "      <td>-0.359074</td>\n",
       "      <td>1</td>\n",
       "    </tr>\n",
       "    <tr>\n",
       "      <th>1</th>\n",
       "      <td>-0.377464</td>\n",
       "      <td>1.112379</td>\n",
       "      <td>-0.282871</td>\n",
       "      <td>-1.678647</td>\n",
       "      <td>5.738445</td>\n",
       "      <td>-0.885670</td>\n",
       "      <td>0.231629</td>\n",
       "      <td>1.066159</td>\n",
       "      <td>-0.682560</td>\n",
       "      <td>0.270923</td>\n",
       "      <td>...</td>\n",
       "      <td>-0.615991</td>\n",
       "      <td>4.449231</td>\n",
       "      <td>-0.541723</td>\n",
       "      <td>-6.182493</td>\n",
       "      <td>-0.521934</td>\n",
       "      <td>1.843847</td>\n",
       "      <td>-0.597611</td>\n",
       "      <td>4.450570</td>\n",
       "      <td>-0.557946</td>\n",
       "      <td>0</td>\n",
       "    </tr>\n",
       "    <tr>\n",
       "      <th>2</th>\n",
       "      <td>0.430269</td>\n",
       "      <td>1.090992</td>\n",
       "      <td>-0.789520</td>\n",
       "      <td>0.259121</td>\n",
       "      <td>-0.353087</td>\n",
       "      <td>-1.050905</td>\n",
       "      <td>0.231629</td>\n",
       "      <td>0.408815</td>\n",
       "      <td>-0.682560</td>\n",
       "      <td>-0.112239</td>\n",
       "      <td>...</td>\n",
       "      <td>0.491383</td>\n",
       "      <td>-0.405555</td>\n",
       "      <td>0.992442</td>\n",
       "      <td>0.061789</td>\n",
       "      <td>1.065191</td>\n",
       "      <td>-0.128900</td>\n",
       "      <td>0.530662</td>\n",
       "      <td>-0.425199</td>\n",
       "      <td>0.820082</td>\n",
       "      <td>1</td>\n",
       "    </tr>\n",
       "    <tr>\n",
       "      <th>3</th>\n",
       "      <td>-1.456515</td>\n",
       "      <td>-1.047733</td>\n",
       "      <td>0.913384</td>\n",
       "      <td>0.827567</td>\n",
       "      <td>-0.844339</td>\n",
       "      <td>1.173408</td>\n",
       "      <td>0.082489</td>\n",
       "      <td>-0.905873</td>\n",
       "      <td>1.041867</td>\n",
       "      <td>-0.192142</td>\n",
       "      <td>...</td>\n",
       "      <td>-0.221082</td>\n",
       "      <td>-0.533331</td>\n",
       "      <td>0.330714</td>\n",
       "      <td>0.257479</td>\n",
       "      <td>0.658236</td>\n",
       "      <td>-0.066864</td>\n",
       "      <td>-0.201983</td>\n",
       "      <td>-0.352838</td>\n",
       "      <td>0.344900</td>\n",
       "      <td>1</td>\n",
       "    </tr>\n",
       "    <tr>\n",
       "      <th>4</th>\n",
       "      <td>0.212468</td>\n",
       "      <td>-0.726925</td>\n",
       "      <td>0.702281</td>\n",
       "      <td>-0.016259</td>\n",
       "      <td>0.334667</td>\n",
       "      <td>0.385366</td>\n",
       "      <td>-0.663213</td>\n",
       "      <td>-0.905873</td>\n",
       "      <td>1.041867</td>\n",
       "      <td>-0.102717</td>\n",
       "      <td>...</td>\n",
       "      <td>0.511739</td>\n",
       "      <td>-0.381381</td>\n",
       "      <td>0.295886</td>\n",
       "      <td>0.177424</td>\n",
       "      <td>0.473256</td>\n",
       "      <td>0.086158</td>\n",
       "      <td>0.760921</td>\n",
       "      <td>-0.428645</td>\n",
       "      <td>0.309701</td>\n",
       "      <td>1</td>\n",
       "    </tr>\n",
       "  </tbody>\n",
       "</table>\n",
       "<p>5 rows × 51 columns</p>\n",
       "</div>"
      ],
      "text/plain": [
       "   koi_steff  koi_steff_err1  koi_steff_err2  koi_slogg  koi_slogg_err1  \\\n",
       "0  -1.455270       -1.069120        0.927458   0.761880       -0.680589   \n",
       "1  -0.377464        1.112379       -0.282871  -1.678647        5.738445   \n",
       "2   0.430269        1.090992       -0.789520   0.259121       -0.353087   \n",
       "3  -1.456515       -1.047733        0.913384   0.827567       -0.844339   \n",
       "4   0.212468       -0.726925        0.702281  -0.016259        0.334667   \n",
       "\n",
       "   koi_slogg_err2  koi_smet  koi_smet_err1  koi_smet_err2  koi_srad  ...  \\\n",
       "0        1.453036 -0.588642      -0.905873       1.041867 -0.191314  ...   \n",
       "1       -0.885670  0.231629       1.066159      -0.682560  0.270923  ...   \n",
       "2       -1.050905  0.231629       0.408815      -0.682560 -0.112239  ...   \n",
       "3        1.173408  0.082489      -0.905873       1.041867 -0.192142  ...   \n",
       "4        0.385366 -0.663213      -0.905873       1.041867 -0.102717  ...   \n",
       "\n",
       "   koi_dicco_mdec_err  koi_dicco_msky  koi_dicco_msky_err  koi_dikco_mra  \\\n",
       "0           -0.343219       -0.505704           -0.383257      -0.182823   \n",
       "1           -0.615991        4.449231           -0.541723      -6.182493   \n",
       "2            0.491383       -0.405555            0.992442       0.061789   \n",
       "3           -0.221082       -0.533331            0.330714       0.257479   \n",
       "4            0.511739       -0.381381            0.295886       0.177424   \n",
       "\n",
       "   koi_dikco_mra_err  koi_dikco_mdec  koi_dikco_mdec_err  koi_dikco_msky  \\\n",
       "0          -0.322156       -0.141307           -0.306647       -0.366621   \n",
       "1          -0.521934        1.843847           -0.597611        4.450570   \n",
       "2           1.065191       -0.128900            0.530662       -0.425199   \n",
       "3           0.658236       -0.066864           -0.201983       -0.352838   \n",
       "4           0.473256        0.086158            0.760921       -0.428645   \n",
       "\n",
       "   koi_dikco_msky_err  target  \n",
       "0           -0.359074       1  \n",
       "1           -0.557946       0  \n",
       "2            0.820082       1  \n",
       "3            0.344900       1  \n",
       "4            0.309701       1  \n",
       "\n",
       "[5 rows x 51 columns]"
      ]
     },
     "execution_count": 18,
     "metadata": {},
     "output_type": "execute_result"
    }
   ],
   "source": [
    "\n",
    "# Charger ensemble de données ici (new_data par exemple)\n",
    "new_data = pd.read_csv('./dataset/data_scaled.csv')\n",
    "new_data.head()"
   ]
  },
  {
   "cell_type": "code",
   "execution_count": 19,
   "metadata": {},
   "outputs": [],
   "source": [
    "# Séparation des caractéristiques (X) et de la cible (y)\n",
    "X = new_data.drop('target', axis=1)\n",
    "y = new_data['target']\n",
    "\n",
    "# Séparation des données en ensembles d'entraînement et de test\n",
    "X_train, X_test, y_train, y_test = train_test_split(X, y, test_size=0.2, random_state=42)"
   ]
  },
  {
   "cell_type": "markdown",
   "metadata": {},
   "source": [
    "Les modèles"
   ]
  },
  {
   "cell_type": "markdown",
   "metadata": {},
   "source": [
    "chargement du modèle"
   ]
  },
  {
   "cell_type": "code",
   "execution_count": 20,
   "metadata": {},
   "outputs": [],
   "source": [
    "\n",
    "model = RandomForestClassifier(random_state=42) \n",
    "k_fold = StratifiedKFold(n_splits=5, shuffle=True, random_state=42)\n"
   ]
  },
  {
   "cell_type": "markdown",
   "metadata": {},
   "source": [
    "Application de la validation croisée"
   ]
  },
  {
   "cell_type": "code",
   "execution_count": 21,
   "metadata": {},
   "outputs": [],
   "source": [
    "\n",
    "scores = cross_val_score(model, X_train, y_train, cv=k_fold, scoring='accuracy')"
   ]
  },
  {
   "cell_type": "markdown",
   "metadata": {},
   "source": [
    "#### Evaluation"
   ]
  },
  {
   "cell_type": "code",
   "execution_count": 22,
   "metadata": {},
   "outputs": [
    {
     "name": "stdout",
     "output_type": "stream",
     "text": [
      "Moyenne de l'accuracy sur les folds : 0.95\n",
      "Écart-type de l'accuracy sur les folds : 0.01\n"
     ]
    }
   ],
   "source": [
    "\n",
    "# Affichez les résultats\n",
    "print(f'Moyenne de l\\'accuracy sur les folds : {np.mean(scores):.2f}')\n",
    "print(f'Écart-type de l\\'accuracy sur les folds : {np.std(scores):.2f}')\n"
   ]
  },
  {
   "cell_type": "code",
   "execution_count": 23,
   "metadata": {},
   "outputs": [],
   "source": [
    "# Prédictions avec validation croisée\n",
    "y_pred = cross_val_predict(model, X_test, y_test, cv=k_fold)\n"
   ]
  },
  {
   "cell_type": "code",
   "execution_count": 24,
   "metadata": {},
   "outputs": [
    {
     "data": {
      "image/png": "[encoded data removed]",
      "text/plain": [
       "<Figure size 800x600 with 2 Axes>"
      ]
     },
     "metadata": {},
     "output_type": "display_data"
    },
    {
     "name": "stdout",
     "output_type": "stream",
     "text": [
      "Classification Report:\n",
      "              precision    recall  f1-score   support\n",
      "\n",
      "           0       0.94      0.95      0.94       800\n",
      "           1       0.94      0.93      0.94       756\n",
      "\n",
      "    accuracy                           0.94      1556\n",
      "   macro avg       0.94      0.94      0.94      1556\n",
      "weighted avg       0.94      0.94      0.94      1556\n",
      "\n"
     ]
    }
   ],
   "source": [
    "\n",
    "# Afficher la matrice de confusion\n",
    "# Affichage de la matrice de confusion\n",
    "conf_matrix = confusion_matrix(y_test, y_pred)\n",
    "# Afficher la matrice de confusion avec seaborn\n",
    "plt.figure(figsize=(8, 6))\n",
    "sns.heatmap(conf_matrix, annot=True, fmt='d', cmap='Blues', \n",
    "            xticklabels=['Non-Exoplanet', 'Exoplanet'],\n",
    "            yticklabels=['Non-Exoplanet', 'Exoplanet'])\n",
    "plt.title('Matrice de Confusion')\n",
    "plt.xlabel('Prédit')\n",
    "plt.ylabel('Réel')\n",
    "plt.show()\n",
    "\n",
    "\n",
    "# Affichage du rapport de classification\n",
    "class_report = classification_report(y_test, y_pred)\n",
    "print('Classification Report:')\n",
    "print(class_report)"
   ]
  },
  {
   "cell_type": "code",
   "execution_count": null,
   "metadata": {},
   "outputs": [],
   "source": []
  },
  {
   "cell_type": "markdown",
   "metadata": {},
   "source": [
    "### Résultats :\n",
    "\n",
    "équivalents à CNN "
   ]
  }
 ],
 "metadata": {
  "kernelspec": {
   "display_name": "ML",
   "language": "python",
   "name": "python3"
  },
  "language_info": {
   "codemirror_mode": {
    "name": "ipython",
    "version": 3
   },
   "file_extension": ".py",
   "mimetype": "text/x-python",
   "name": "python",
   "nbconvert_exporter": "python",
   "pygments_lexer": "ipython3",
   "version": "3.10.13"
  },
  "orig_nbformat": 4,
  "vscode": {
   "interpreter": {
    "hash": "52afa77bcd31101b59044b0a63871bfc547a011612f81e6f8319dea4e659101b"
   }
  }
 },
 "nbformat": 4,
 "nbformat_minor": 2
}
